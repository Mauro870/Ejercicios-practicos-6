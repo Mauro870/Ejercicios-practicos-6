{
 "cells": [
  {
   "cell_type": "markdown",
   "metadata": {},
   "source": [
    "# Ejercicios práctico E_1"
   ]
  },
  {
   "cell_type": "markdown",
   "metadata": {},
   "source": [
    "# Ejercicios práctico E_1"
   ]
  },
  {
   "cell_type": "code",
   "execution_count": 6,
   "metadata": {},
   "outputs": [
    {
     "data": {
      "text/plain": [
       "     fun: 13.211102551055294\n",
       "     jac: array([10.60555136,  1.        ,  2.        ,  9.60555124])\n",
       " message: 'Optimization terminated successfully.'\n",
       "    nfev: 30\n",
       "     nit: 5\n",
       "    njev: 5\n",
       "  status: 0\n",
       " success: True\n",
       "       x: array([1.        , 5.        , 3.60555128, 1.        ])"
      ]
     },
     "execution_count": 6,
     "metadata": {},
     "output_type": "execute_result"
    }
   ],
   "source": [
    "from scipy.optimize import minimize as mini\n",
    "def f(x):\n",
    "    return(x[0]*x[3]*(x[0]+x[1]+x[2])+x[2])\n",
    "def restric1(x): #Definicion de la primera restriccion\n",
    "    return (25 - (x[0]*x[1]*x[2]*x[3]))\n",
    "def restric2(x): #Definicion de la primera restriccion\n",
    "    return (-40 + ((x[0]**2)+(x[1]**2)+(x[2]**2)+(x[3]**2)))\n",
    "\n",
    "constrts = [{'type':'ineq', 'fun':restric1}, {'type':'eq', 'fun':restric2}]\n",
    "sem_ini = [1,5,5,1]\n",
    "x_bounds = ((1, 5),(1, 5),(1, 5),(1, 5))\n",
    "solutions = mini(f, sem_ini, method='SLSQP', bounds=x_bounds,constraints=constrts)\n",
    "solutions"
   ]
  },
  {
   "cell_type": "markdown",
   "metadata": {},
   "source": [
    "# Ejercicios práctico E_2"
   ]
  },
  {
   "cell_type": "code",
   "execution_count": 7,
   "metadata": {},
   "outputs": [
    {
     "data": {
      "text/plain": [
       "     fun: 2.0499154720234642\n",
       "     jac: array([-3.48747939,  5.49674535])\n",
       " message: 'Optimization terminated successfully.'\n",
       "    nfev: 25\n",
       "     nit: 6\n",
       "    njev: 6\n",
       "  status: 0\n",
       " success: True\n",
       "       x: array([1.26089314, 2.00463288])"
      ]
     },
     "execution_count": 7,
     "metadata": {},
     "output_type": "execute_result"
    }
   ],
   "source": [
    "from scipy.optimize import minimize as mini\n",
    "def f(x):\n",
    "    return(-((2*x[0]*x[1])+(2*x[0])-(x[0]**2)-(2*x[1]**2)))\n",
    "def restric1(x): #Definicion de la primera restriccion\n",
    "    return ((x[0]**3-x[1]))\n",
    "def restric2(x): #Definicion de la primera restriccion\n",
    "    return (x[1]-((x[0]-1)**4)-2)\n",
    "\n",
    "constrts = [{'type':'eq', 'fun':restric1}, {'type':'ineq', 'fun':restric2}]\n",
    "sem_ini = [0,2.5]\n",
    "x_bounds = ((0.5, 1.5),(1.5, 2.5))\n",
    "solutions = mini(f, sem_ini, method='SLSQP', bounds=x_bounds,constraints=constrts)\n",
    "solutions"
   ]
  },
  {
   "cell_type": "markdown",
   "metadata": {},
   "source": [
    "# Ejercicios práctico E_3"
   ]
  },
  {
   "cell_type": "code",
   "execution_count": 8,
   "metadata": {},
   "outputs": [
    {
     "name": "stdout",
     "output_type": "stream",
     "text": [
      "     con: array([], dtype=float64)\n",
      "     fun: 66.45161290322581\n",
      " message: 'Optimization terminated successfully.'\n",
      "     nit: 2\n",
      "   slack: array([0., 0.])\n",
      "  status: 0\n",
      " success: True\n",
      "       x: array([30.96774194, 35.48387097])\n"
     ]
    }
   ],
   "source": [
    "from scipy.optimize import linprog as lp\n",
    "# para máximos con la fun linprog se multiplica por menos 1 la f(x)\n",
    "c = [-1, -1]\n",
    "A = [[50, 24], [30, 33]]\n",
    "b = [2400, 2100]\n",
    "x0_bounds = (0,None)\n",
    "x1_bounds = (0,None)\n",
    "res = lp(c, A_ub=A, b_ub=b, bounds=(x0_bounds, x1_bounds))\n",
    "res['fun']=res['fun']*-1\n",
    "print(res)"
   ]
  },
  {
   "cell_type": "markdown",
   "metadata": {},
   "source": [
    "# Ejercicios práctico E_4"
   ]
  },
  {
   "cell_type": "code",
   "execution_count": 9,
   "metadata": {},
   "outputs": [
    {
     "data": {
      "text/plain": [
       "     fun: 6687.714031754189\n",
       "     jac: array([ 4.88281250e-04, -6.10351562e-04, -6.10351562e-05,  1.95312500e-03,\n",
       "       -2.68554688e-03,  5.49316406e-04,  9.15527344e-04,  1.77001953e-03,\n",
       "       -2.25830078e-03,  7.32421875e-04])\n",
       " message: 'Optimization terminated successfully.'\n",
       "    nfev: 194\n",
       "     nit: 15\n",
       "    njev: 15\n",
       "  status: 0\n",
       " success: True\n",
       "       x: array([ 9.99999906,  9.99999943,  9.99999867, 10.00000027, 10.00000036,\n",
       "        9.99999785,  9.99999855,  9.9999984 , 10.00000123, 10.00000036])"
      ]
     },
     "execution_count": 9,
     "metadata": {},
     "output_type": "execute_result"
    }
   ],
   "source": [
    "# Ejercicio4_Demanda constante\n",
    "import numpy as np\n",
    "D=10\n",
    "A=200\n",
    "B=10\n",
    "t=np.linspace(1,10,10)\n",
    "x=np.linspace(20,2,10)\n",
    "p=00*np.linspace(1,1,10)\n",
    "s0=112\n",
    "\n",
    "from scipy.optimize import minimize as mini\n",
    "def f(x):\n",
    "    return(-sum(((A-B*x)*(D/(D+t)))*x))\n",
    "def restric1(x): #Definicion de la primera restriccion\n",
    "    return (-sum(x)+s0)\n",
    "#def restric2(x): #Definicion de la primera restriccion\n",
    "#    return (all(x<=A/B) and all(x>=0))\n",
    "\n",
    "constrts = [{'type':'ineq', 'fun':restric1}]\n",
    "sem_ini = p\n",
    "x_bounds = ((0, A/B),(0, A/B),(0, A/B),(0, A/B),(0, A/B),(0, A/B),(0, A/B),(0, A/B),(0, A/B),(0, A/B))\n",
    "\n",
    "solutions = mini(f, sem_ini, method='SLSQP', bounds=x_bounds,constraints=constrts)\n",
    "solutions['fun']=solutions['fun']*-1\n",
    "solutions"
   ]
  },
  {
   "cell_type": "code",
   "execution_count": 10,
   "metadata": {},
   "outputs": [
    {
     "data": {
      "text/plain": [
       "     fun: 6687.714031452212\n",
       "     jac: array([-0.00018311,  0.00024414, -0.00024414, -0.00036621, -0.00012207,\n",
       "        0.00012207,  0.00012207, -0.00024414, -0.00054932, -0.00024414])\n",
       " message: 'Optimization terminated successfully.'\n",
       "    nfev: 157\n",
       "     nit: 13\n",
       "    njev: 13\n",
       "  status: 0\n",
       " success: True\n",
       "       x: array([90.90918136, 83.33402888, 76.92279097, 71.42841293, 66.6671059 ,\n",
       "       62.50076442, 58.82383668, 55.55527217, 52.63103807, 50.00031971])"
      ]
     },
     "execution_count": 10,
     "metadata": {},
     "output_type": "execute_result"
    }
   ],
   "source": [
    "# Ejercicio4_pre constante\n",
    "import numpy as np\n",
    "D=10\n",
    "A=200\n",
    "B=10\n",
    "t=np.linspace(1,10,10)\n",
    "p=10*np.linspace(1,1,10)\n",
    "s0=112\n",
    "\n",
    "from scipy.optimize import minimize as mini\n",
    "def f(p):\n",
    "    return(-sum(((1/B)*(A-p*(D+t)/D))*p))\n",
    "def restric1(x): #Definicion de la primera restriccion\n",
    "    return (-sum(x)+s0)\n",
    "#def restric2(x): #Definicion de la primera restriccion\n",
    "#    return (all(x<=A/B) and all(x>=0))\n",
    "\n",
    "constrts = []\n",
    "sem_ini = x\n",
    "x_bounds = ((0, None),(0, None),(0, None),(0, None),(0, None),(0, None),(0, None),(0, None),(0, None),(0, None))\n",
    "\n",
    "solutions = mini(f, sem_ini, method='SLSQP', bounds=x_bounds,constraints=constrts)\n",
    "solutions['fun']=solutions['fun']*-1\n",
    "solutions"
   ]
  }
 ],
 "metadata": {
  "kernelspec": {
   "display_name": "Python 3",
   "language": "python",
   "name": "python3"
  },
  "language_info": {
   "codemirror_mode": {
    "name": "ipython",
    "version": 3
   },
   "file_extension": ".py",
   "mimetype": "text/x-python",
   "name": "python",
   "nbconvert_exporter": "python",
   "pygments_lexer": "ipython3",
   "version": "3.7.3"
  }
 },
 "nbformat": 4,
 "nbformat_minor": 2
}
